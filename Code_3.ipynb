{
 "cells": [
  {
   "cell_type": "code",
   "execution_count": 1,
   "id": "d1b37504",
   "metadata": {
    "tags": []
   },
   "outputs": [
    {
     "name": "stdout",
     "output_type": "stream",
     "text": [
      "[[1.]]\n"
     ]
    },
    {
     "name": "stderr",
     "output_type": "stream",
     "text": [
      "/Users/khpark/anaconda3/lib/python3.11/site-packages/torch/utils/_device.py:77: UserWarning: To copy construct from a tensor, it is recommended to use sourceTensor.clone().detach() or sourceTensor.clone().detach().requires_grad_(True), rather than torch.tensor(sourceTensor).\n",
      "  return func(*args, **kwargs)\n"
     ]
    },
    {
     "name": "stdout",
     "output_type": "stream",
     "text": [
      "  10000 MC-paths\n"
     ]
    },
    {
     "ename": "KeyboardInterrupt",
     "evalue": "",
     "output_type": "error",
     "traceback": [
      "\u001b[0;31m---------------------------------------------------------------------------\u001b[0m",
      "\u001b[0;31mKeyboardInterrupt\u001b[0m                         Traceback (most recent call last)",
      "Cell \u001b[0;32mIn[1], line 98\u001b[0m\n\u001b[1;32m     96\u001b[0m p\u001b[38;5;241m=\u001b[39m\u001b[38;5;241m1\u001b[39m\n\u001b[1;32m     97\u001b[0m \u001b[38;5;28;01mfor\u001b[39;00m l \u001b[38;5;129;01min\u001b[39;00m \u001b[38;5;28mrange\u001b[39m(M_w):\n\u001b[0;32m---> 98\u001b[0m     V1_Temp \u001b[38;5;241m=\u001b[39m func_w(XT_W_FIX \u001b[38;5;241m+\u001b[39m Dum_O2 \u001b[38;5;241m*\u001b[39m DIF_D2[l,:,:])\n\u001b[1;32m     99\u001b[0m     V1_w \u001b[38;5;241m+\u001b[39m\u001b[38;5;241m=\u001b[39m V1_Temp[\u001b[38;5;241m2\u001b[39m]\n\u001b[1;32m    100\u001b[0m     V1_Jac_w \u001b[38;5;241m+\u001b[39m\u001b[38;5;241m=\u001b[39m V1_Temp[\u001b[38;5;241m3\u001b[39m]\n",
      "Cell \u001b[0;32mIn[1], line 87\u001b[0m, in \u001b[0;36mfunc_w\u001b[0;34m(X_T)\u001b[0m\n\u001b[1;32m     85\u001b[0m w_value \u001b[38;5;241m=\u001b[39m torch\u001b[38;5;241m.\u001b[39mmean(torch\u001b[38;5;241m.\u001b[39mcos(inner_sum),dim\u001b[38;5;241m=\u001b[39m\u001b[38;5;241m0\u001b[39m)                \u001b[38;5;66;03m### [N]\u001b[39;00m\n\u001b[1;32m     86\u001b[0m w_value_d \u001b[38;5;241m=\u001b[39m Dum_O3[\u001b[38;5;241m0\u001b[39m,:,:] \u001b[38;5;241m*\u001b[39m w_value                             \u001b[38;5;66;03m### [DIM, N]\u001b[39;00m\n\u001b[0;32m---> 87\u001b[0m J_w_value \u001b[38;5;241m=\u001b[39m torch\u001b[38;5;241m.\u001b[39mmean(torch\u001b[38;5;241m.\u001b[39msin(inner_sum),dim\u001b[38;5;241m=\u001b[39m\u001b[38;5;241m0\u001b[39m)              \n\u001b[1;32m     88\u001b[0m J_w_value_mtx \u001b[38;5;241m=\u001b[39m  \u001b[38;5;241m-\u001b[39m J_w_const_mtx\u001b[38;5;241m*\u001b[39m J_w_value                     \u001b[38;5;66;03m### [DIM, DIM, N]  \u001b[39;00m\n\u001b[1;32m     89\u001b[0m norm_w, norm_J_w_sig_0 \u001b[38;5;241m=\u001b[39m torch\u001b[38;5;241m.\u001b[39mlinalg\u001b[38;5;241m.\u001b[39mnorm(w_value_d, dim\u001b[38;5;241m=\u001b[39m\u001b[38;5;241m0\u001b[39m), torch\u001b[38;5;241m.\u001b[39mlinalg\u001b[38;5;241m.\u001b[39mnorm(J_w_value_mtx,dim\u001b[38;5;241m=\u001b[39m(\u001b[38;5;241m0\u001b[39m,\u001b[38;5;241m1\u001b[39m))\n",
      "\u001b[0;31mKeyboardInterrupt\u001b[0m: "
     ]
    }
   ],
   "source": [
    "import torch\n",
    "import torchvision.models as models \n",
    "from torch.profiler import profile, record_function, ProfilerActivity\n",
    "import numpy as np \n",
    "from scipy.stats import random_correlation \n",
    "from scipy.stats import multivariate_normal as normal \n",
    "import datetime as dt\n",
    "import matplotlib.pyplot as plt\n",
    "import time\n",
    "####################################### Base parameters #######################################\n",
    "X_0_sc = 0        ## initial X scalar\n",
    "T=1               ## time horizon\n",
    "N=100             ## number of discretization for time horizon T\n",
    "B_0_sc= 1         ## drift scalar baseline\n",
    "Sig_0_sc= 1       ## vol scalar baseline \n",
    "DIM_arr = np.array([1, 5, 10, 20, 50, 100])\n",
    "Num_Iter = 10\n",
    "####################################### MC iterations #######################################\n",
    "M   = 3000000            ## number of outer mc samples  (M_0>1)\n",
    "M_w = 30000              ## number of outer mc samples  (M_1<M_0)\n",
    "mps_device = torch.device(\"mps\")\n",
    "V0_array = torch.zeros([Num_Iter,DIM_arr.shape[0]], device=\"mps\")\n",
    "W0_array = torch.zeros([Num_Iter,DIM_arr.shape[0],2], device=\"mps\")\n",
    "Time_array = torch.zeros([Num_Iter,DIM_arr.shape[0]], device=\"mps\")\n",
    "C_sig_array = torch.zeros([Num_Iter,DIM_arr.shape[0]], device=\"mps\")\n",
    "b_norm_array = torch.zeros([Num_Iter,DIM_arr.shape[0]], device=\"mps\")\n",
    "b_norm_array_2 = torch.zeros([Num_Iter,DIM_arr.shape[0]], device=\"mps\")\n",
    "for k in range(DIM_arr.shape[0]):\n",
    "    DIM = DIM_arr[k]\n",
    "    if DIM == 1:\n",
    "        B_0 = np.float32(np.ones((1,1))*B_0_sc)\n",
    "        Sig_0 = np.float32(np.ones((1,1))*Sig_0_sc)\n",
    "        X_0= np.float32(np.ones((1,1))*X_0_sc)\n",
    "    else:\n",
    "        B_00 = np.random.uniform(0,1,(DIM))\n",
    "        B_0 = np.float32(B_00/np.sum(B_00)) \n",
    "        Sig_00 = np.random.uniform(-1,1,(DIM,DIM))\n",
    "        Sig_0 = np.float32(Sig_00 / np.linalg.norm(np.sum(Sig_00, axis=0)))\n",
    "        X_0 = np.float32(np.ones(DIM)*X_0_sc)\n",
    "    C_sig_array[0,k] = torch.tensor(np.sqrt(np.amin(np.linalg.eig(np.matmul(np.transpose(Sig_0),Sig_0))[0])), device=\"mps\")\n",
    "    b_norm_array[0,k] = torch.tensor(np.sum(B_0), device=\"mps\")\n",
    "    b_norm_array_2[0,k] = torch.tensor(np.linalg.norm(B_0), device=\"mps\")\n",
    "    print(Sig_0)\n",
    "    for j in range(Num_Iter):\n",
    "        start = time.time()\n",
    "        with torch.device(mps_device): \n",
    "            X_0_tor = torch.tensor(torch.from_numpy(X_0), device=\"mps\") \n",
    "            B_0_tor = torch.tensor(torch.from_numpy(B_0), device=\"mps\") \n",
    "            Sig_0_tor = torch.tensor(torch.from_numpy(Sig_0), device=\"mps\") \n",
    "            # ##############################     Float increment     ##############################\n",
    "            Dt_tor = torch.tensor(T/N) \n",
    "            DIM_tor = torch.tensor(DIM) \n",
    "            # ##############################     Random sample generation     ##############################\n",
    "            T_arr_tor= torch.arange(1,N+1)*Dt_tor \n",
    "            R_T_arr_tor=torch.linspace(T,0,N+1)[:-1] \n",
    "            Sqrt_T_arr_tor = torch.sqrt(T_arr_tor) \n",
    "            R_Sqrt_T_arr_tor = torch.sqrt(R_T_arr_tor) \n",
    "            W_sample = torch.tensor(torch.FloatTensor(DIM, M).normal_(), device=\"mps\") \n",
    "            Dum_O1, Dum_O2, Dum_O3, Dum_O4 = torch.ones([M_w,DIM,DIM]), torch.ones([M_w, N, DIM]), torch.ones([M_w, DIM, N]), torch.ones([N, DIM, DIM])\n",
    "            ############################\n",
    "            Dum_O5 = torch.ones([M,DIM])\n",
    "            ############################\n",
    "            Dum_Z1, Dum_Z2 = torch.zeros([DIM,DIM]), torch.zeros([M_w,DIM,DIM])\n",
    "            V1_w = torch.zeros(1)\n",
    "            V1_Jac_w = torch.zeros(1)\n",
    "        R_Sqrt_T_arr_tensor=torch.permute(Dum_O3*R_Sqrt_T_arr_tor, (2,0,1))\n",
    "        Sqrt_T_arr_tensor=torch.permute(Dum_O3*Sqrt_T_arr_tor, (2,0,1))\n",
    "        X0_D = Dum_O2 * X_0_tor \n",
    "        DR_D = Dum_O2 * B_0_tor \n",
    "        DIF_D1 = torch.permute(R_Sqrt_T_arr_tensor*torch.transpose(torch.matmul(Sig_0_tor,W_sample[:,:M_w]),0,1), (1,0,2))\n",
    "        DIF_D2 = torch.permute(Sqrt_T_arr_tensor*torch.transpose(torch.matmul(Sig_0_tor,W_sample[:,:M_w]),0,1), (1,0,2))\n",
    "        #########################\n",
    "        X0_D_V = Dum_O5 * X_0_tor \n",
    "        DR_D_V = Dum_O5 * B_0_tor\n",
    "        def func_v(X_T):  \n",
    "            inner_sum = torch.sum(X_T, dim=1)\n",
    "            v_value = torch.mean(torch.sin(inner_sum))               \n",
    "            return v_value    \n",
    "        XT_V = X0_D_V + DR_D_V * T_arr_tor[-1] + torch.transpose(torch.matmul(Sig_0_tor,W_sample),0,1) * Sqrt_T_arr_tor[-1]   #### num of disc, num of MC, dim of X\n",
    "        J_w_const_mtx = torch.permute(torch.matmul(Dum_O4,Sig_0_tor),[1,2,0])\n",
    "        def func_w(X_T):   \n",
    "            inner_sum = torch.sum(X_T, dim=2) \n",
    "            w_value = torch.mean(torch.cos(inner_sum),dim=0)                ### [N]\n",
    "            w_value_d = Dum_O3[0,:,:] * w_value                             ### [DIM, N]\n",
    "            J_w_value = torch.mean(torch.sin(inner_sum),dim=0)              \n",
    "            J_w_value_mtx =  - J_w_const_mtx* J_w_value                     ### [DIM, DIM, N]  \n",
    "            norm_w, norm_J_w_sig_0 = torch.linalg.norm(w_value_d, dim=0), torch.linalg.norm(J_w_value_mtx,dim=(0,1))\n",
    "            return norm_w, norm_J_w_sig_0, torch.sum(norm_w), torch.sum(norm_J_w_sig_0)\n",
    "        XT_W_FIX =  X0_D + DR_D * T_arr_tor[-1] + DIF_D1\n",
    "        XT_W_FIX.shape\n",
    "\n",
    "        V0_array[j,k] = func_v(XT_V)\n",
    "        pc_M = 0\n",
    "        p=1\n",
    "        for l in range(M_w):\n",
    "            V1_Temp = func_w(XT_W_FIX + Dum_O2 * DIF_D2[l,:,:])\n",
    "            V1_w += V1_Temp[2]\n",
    "            V1_Jac_w += V1_Temp[3]\n",
    "            if (pc_M == 10000):\n",
    "                print('%7.d MC-paths' %(p*10000)) \n",
    "                p+=1 \n",
    "                pc_M = 0 \n",
    "            pc_M +=1 \n",
    "        W0_array[j,k,:] = torch.tensor([V1_w * Dt_tor / M_w , V1_Jac_w * Dt_tor / M_w], device=\"mps\") \n",
    "        end = time.time() \n",
    "        Time_array[j,k]= torch.tensor(end - start , device=\"mps\")\n",
    "####################################### Save #######################################\n",
    "V0_array_np =  torch.Tensor.numpy(torch.as_tensor(V0_array, dtype=torch.float32, device='cpu'))\n",
    "W0_array_np =  torch.Tensor.numpy(torch.as_tensor(W0_array, dtype=torch.float32, device='cpu'))\n",
    "Time_array_np =  torch.Tensor.numpy(torch.as_tensor(Time_array, dtype=torch.float32, device='cpu'))\n",
    "C_sig_array_np = torch.Tensor.numpy(torch.as_tensor(C_sig_array, dtype=torch.float32, device='cpu'))\n",
    "b_norm_array_np = torch.Tensor.numpy(torch.as_tensor(b_norm_array, dtype=torch.float32, device='cpu'))\n",
    "b_norm_array_np_2 = torch.Tensor.numpy(torch.as_tensor(b_norm_array_2, dtype=torch.float32, device='cpu'))\n",
    "np.savetxt('V0.csv', V0_array_np, delimiter=\",\")\n",
    "np.savetxt('W0_drift.csv', W0_array_np[:,:,0], delimiter=\",\")\n",
    "np.savetxt('W0_vol.csv', W0_array_np[:,:,1], delimiter=\",\")\n",
    "np.savetxt('Time.csv', Time_array_np, delimiter=\",\")\n",
    "np.savetxt('C_sig.csv', C_sig_array_np, delimiter=\",\")\n",
    "np.savetxt('b_norm.csv', b_norm_array_np, delimiter=\",\")"
   ]
  },
  {
   "cell_type": "code",
   "execution_count": null,
   "id": "fc28869e",
   "metadata": {},
   "outputs": [],
   "source": []
  }
 ],
 "metadata": {
  "kernelspec": {
   "display_name": "Python 3 (ipykernel)",
   "language": "python",
   "name": "python3"
  },
  "language_info": {
   "codemirror_mode": {
    "name": "ipython",
    "version": 3
   },
   "file_extension": ".py",
   "mimetype": "text/x-python",
   "name": "python",
   "nbconvert_exporter": "python",
   "pygments_lexer": "ipython3",
   "version": "3.11.5"
  }
 },
 "nbformat": 4,
 "nbformat_minor": 5
}
