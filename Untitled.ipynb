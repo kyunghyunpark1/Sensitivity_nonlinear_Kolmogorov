{
 "cells": [
  {
   "cell_type": "markdown",
   "id": "7e3120e7",
   "metadata": {},
   "source": [
    "# Sensitivity of nonlinear Kolmogorov PDE\n",
    "This \n",
    "\n",
    "## Usage\n",
    "\n",
    "\n",
    "## Citation\n",
    "If you find this work useful for your research, please cite our paper:\n",
    "\n",
    "    @inproceedings{\n",
    "    }\n",
    "\n",
    "## License"
   ]
  },
  {
   "cell_type": "code",
   "execution_count": null,
   "id": "c32d143a",
   "metadata": {},
   "outputs": [],
   "source": []
  }
 ],
 "metadata": {
  "kernelspec": {
   "display_name": "Python 3 (ipykernel)",
   "language": "python",
   "name": "python3"
  },
  "language_info": {
   "codemirror_mode": {
    "name": "ipython",
    "version": 3
   },
   "file_extension": ".py",
   "mimetype": "text/x-python",
   "name": "python",
   "nbconvert_exporter": "python",
   "pygments_lexer": "ipython3",
   "version": "3.11.5"
  }
 },
 "nbformat": 4,
 "nbformat_minor": 5
}
